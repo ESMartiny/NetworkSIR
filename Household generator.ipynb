{
 "cells": [
  {
   "cell_type": "code",
   "execution_count": 101,
   "metadata": {},
   "outputs": [],
   "source": [
    "import numpy as np\n",
    "import pandas as pd\n",
    "import os\n"
   ]
  },
  {
   "cell_type": "code",
   "execution_count": 206,
   "metadata": {},
   "outputs": [],
   "source": [
    "adult_header = ['year',' age_group', 'Kommune', '1 person', '2 personer', '3 personer', '4 personer', '5 personer', '6 personer og derover']\n",
    "children_header = ['year','n people', 'Kommune', '0-4', '5-9','10-14','15-19']\n",
    "df_adults = pd.read_excel('Data/Household_data_adults.xlsx',header=None,names=adult_header)\n",
    "df_children = pd.read_excel('Data/Household_data_children.xlsx',header= None,names=children_header)"
   ]
  },
  {
   "cell_type": "code",
   "execution_count": 222,
   "metadata": {},
   "outputs": [
    {
     "data": {
      "text/html": [
       "<div>\n",
       "<style scoped>\n",
       "    .dataframe tbody tr th:only-of-type {\n",
       "        vertical-align: middle;\n",
       "    }\n",
       "\n",
       "    .dataframe tbody tr th {\n",
       "        vertical-align: top;\n",
       "    }\n",
       "\n",
       "    .dataframe thead th {\n",
       "        text-align: right;\n",
       "    }\n",
       "</style>\n",
       "<table border=\"1\" class=\"dataframe\">\n",
       "  <thead>\n",
       "    <tr style=\"text-align: right;\">\n",
       "      <th></th>\n",
       "      <th>year</th>\n",
       "      <th>age_group</th>\n",
       "      <th>Kommune</th>\n",
       "      <th>1 person</th>\n",
       "      <th>2 personer</th>\n",
       "      <th>3 personer</th>\n",
       "      <th>4 personer</th>\n",
       "      <th>5 personer</th>\n",
       "      <th>6 personer og derover</th>\n",
       "    </tr>\n",
       "  </thead>\n",
       "  <tbody>\n",
       "    <tr>\n",
       "      <th>0</th>\n",
       "      <td>2020</td>\n",
       "      <td>20-29 år</td>\n",
       "      <td>København</td>\n",
       "      <td>31452</td>\n",
       "      <td>64394</td>\n",
       "      <td>27172</td>\n",
       "      <td>11976</td>\n",
       "      <td>4868</td>\n",
       "      <td>6559</td>\n",
       "    </tr>\n",
       "    <tr>\n",
       "      <th>99</th>\n",
       "      <td>2020</td>\n",
       "      <td>30-39 år</td>\n",
       "      <td>København</td>\n",
       "      <td>21960</td>\n",
       "      <td>34113</td>\n",
       "      <td>28369</td>\n",
       "      <td>21354</td>\n",
       "      <td>6705</td>\n",
       "      <td>5636</td>\n",
       "    </tr>\n",
       "    <tr>\n",
       "      <th>198</th>\n",
       "      <td>2020</td>\n",
       "      <td>40-49 år</td>\n",
       "      <td>København</td>\n",
       "      <td>16873</td>\n",
       "      <td>16835</td>\n",
       "      <td>15183</td>\n",
       "      <td>20653</td>\n",
       "      <td>8044</td>\n",
       "      <td>4460</td>\n",
       "    </tr>\n",
       "    <tr>\n",
       "      <th>297</th>\n",
       "      <td>2020</td>\n",
       "      <td>50-59 år</td>\n",
       "      <td>København</td>\n",
       "      <td>19674</td>\n",
       "      <td>21932</td>\n",
       "      <td>11941</td>\n",
       "      <td>7560</td>\n",
       "      <td>2570</td>\n",
       "      <td>2226</td>\n",
       "    </tr>\n",
       "    <tr>\n",
       "      <th>396</th>\n",
       "      <td>2020</td>\n",
       "      <td>60-69 år</td>\n",
       "      <td>København</td>\n",
       "      <td>18308</td>\n",
       "      <td>19893</td>\n",
       "      <td>3798</td>\n",
       "      <td>1539</td>\n",
       "      <td>576</td>\n",
       "      <td>729</td>\n",
       "    </tr>\n",
       "    <tr>\n",
       "      <th>495</th>\n",
       "      <td>2020</td>\n",
       "      <td>70-79 år</td>\n",
       "      <td>København</td>\n",
       "      <td>16152</td>\n",
       "      <td>13348</td>\n",
       "      <td>1201</td>\n",
       "      <td>449</td>\n",
       "      <td>206</td>\n",
       "      <td>266</td>\n",
       "    </tr>\n",
       "    <tr>\n",
       "      <th>594</th>\n",
       "      <td>2020</td>\n",
       "      <td>80-89 år</td>\n",
       "      <td>København</td>\n",
       "      <td>7217</td>\n",
       "      <td>2959</td>\n",
       "      <td>237</td>\n",
       "      <td>85</td>\n",
       "      <td>45</td>\n",
       "      <td>62</td>\n",
       "    </tr>\n",
       "    <tr>\n",
       "      <th>693</th>\n",
       "      <td>2020</td>\n",
       "      <td>90-99 år</td>\n",
       "      <td>København</td>\n",
       "      <td>2107</td>\n",
       "      <td>279</td>\n",
       "      <td>18</td>\n",
       "      <td>9</td>\n",
       "      <td>12</td>\n",
       "      <td>3</td>\n",
       "    </tr>\n",
       "    <tr>\n",
       "      <th>792</th>\n",
       "      <td>2020</td>\n",
       "      <td>100 år og derover</td>\n",
       "      <td>København</td>\n",
       "      <td>82</td>\n",
       "      <td>1</td>\n",
       "      <td>0</td>\n",
       "      <td>1</td>\n",
       "      <td>0</td>\n",
       "      <td>1</td>\n",
       "    </tr>\n",
       "  </tbody>\n",
       "</table>\n",
       "</div>"
      ],
      "text/plain": [
       "     year          age_group    Kommune  1 person  2 personer  3 personer  \\\n",
       "0    2020           20-29 år  København     31452       64394       27172   \n",
       "99   2020           30-39 år  København     21960       34113       28369   \n",
       "198  2020           40-49 år  København     16873       16835       15183   \n",
       "297  2020           50-59 år  København     19674       21932       11941   \n",
       "396  2020           60-69 år  København     18308       19893        3798   \n",
       "495  2020           70-79 år  København     16152       13348        1201   \n",
       "594  2020           80-89 år  København      7217        2959         237   \n",
       "693  2020           90-99 år  København      2107         279          18   \n",
       "792  2020  100 år og derover  København        82           1           0   \n",
       "\n",
       "     4 personer  5 personer  6 personer og derover  \n",
       "0         11976        4868                   6559  \n",
       "99        21354        6705                   5636  \n",
       "198       20653        8044                   4460  \n",
       "297        7560        2570                   2226  \n",
       "396        1539         576                    729  \n",
       "495         449         206                    266  \n",
       "594          85          45                     62  \n",
       "693           9          12                      3  \n",
       "792           1           0                      1  "
      ]
     },
     "execution_count": 222,
     "metadata": {},
     "output_type": "execute_result"
    }
   ],
   "source": [
    "df_adults[df_adults['Kommune']=='København']\n",
    "#df_adults[df_adults['Kommune']=='København'].loc[:,'1 person']"
   ]
  },
  {
   "cell_type": "code",
   "execution_count": 174,
   "metadata": {},
   "outputs": [],
   "source": [
    "list_of_kommuner=list(set(list(df_adults.Kommune)))\n",
    "Household_size = ['1 person', '2 personer', '3 personer', '4 personer', '5 personer', '6 personer og derover']\n",
    "ages_in_children = ['0-4', '5-9','10-14','15-19']\n",
    "age_groups = ['0-9','10-19','20-29','30-39','40-49','50-59','60-69','70+']"
   ]
  },
  {
   "cell_type": "code",
   "execution_count": 230,
   "metadata": {},
   "outputs": [
    {
     "name": "stderr",
     "output_type": "stream",
     "text": [
      "<ipython-input-230-ed831c1514ed>:8: UserWarning: Boolean Series key will be reindexed to match DataFrame index.\n",
      "  sizesum += df_children[df_children['Kommune']==kommune][df_children['n people']==size][age]\n",
      "<ipython-input-230-ed831c1514ed>:16: UserWarning: Boolean Series key will be reindexed to match DataFrame index.\n",
      "  s09 = df_children[df_children['Kommune']==kommune][df_children['n people']==size]['0-4']\n",
      "<ipython-input-230-ed831c1514ed>:17: UserWarning: Boolean Series key will be reindexed to match DataFrame index.\n",
      "  s09 += df_children[df_children['Kommune']==kommune][df_children['n people']==size]['5-9']\n",
      "<ipython-input-230-ed831c1514ed>:19: UserWarning: Boolean Series key will be reindexed to match DataFrame index.\n",
      "  s1019 = df_children[df_children['Kommune']==kommune][df_children['n people']==size]['10-14']\n",
      "<ipython-input-230-ed831c1514ed>:20: UserWarning: Boolean Series key will be reindexed to match DataFrame index.\n",
      "  s1019 += df_children[df_children['Kommune']==kommune][df_children['n people']==size]['15-19']\n"
     ]
    }
   ],
   "source": [
    "household_dist_kommune = []\n",
    "age_dist_per_household = []\n",
    "for kommune in list_of_kommuner:\n",
    "    household_dist_kommune_single = [kommune]\n",
    "    for size in Household_size:\n",
    "        sizesum = 0\n",
    "        for age in ages_in_children:\n",
    "            sizesum += df_children[df_children['Kommune']==kommune][df_children['n people']==size][age]\n",
    "        sizesum += sum(list(df_adults[df_adults['Kommune']==kommune].loc[:,size]))\n",
    "        household_dist_kommune_single.append(list(sizesum))       \n",
    "    household_dist_kommune.append(household_dist_kommune_single)\n",
    "    \n",
    "    age_dist_single_kommune = [kommune]\n",
    "    for size in Household_size:\n",
    "        single_size = []\n",
    "        s09 = df_children[df_children['Kommune']==kommune][df_children['n people']==size]['0-4']\n",
    "        s09 += df_children[df_children['Kommune']==kommune][df_children['n people']==size]['5-9']\n",
    "        single_size.append(int(s09))\n",
    "        s1019 = df_children[df_children['Kommune']==kommune][df_children['n people']==size]['10-14']\n",
    "        s1019 += df_children[df_children['Kommune']==kommune][df_children['n people']==size]['15-19']\n",
    "        single_size.append(int(s1019))\n",
    "        for age in range(5):\n",
    "            single_size.append(df_adults[df_adults['Kommune']==kommune].loc[:,size].iloc[age])\n",
    "        single_size.append(sum(df_adults[df_adults['Kommune']==kommune].loc[:,size].iloc[5:]))\n",
    "        age_dist_single_kommune.append(list(single_size))\n",
    "    age_dist_per_household.append(age_dist_single_kommune)\n",
    "            \n",
    "            \n",
    "        \n",
    "        \n",
    "    \n",
    "\n",
    "    \n",
    "    \n",
    "    "
   ]
  },
  {
   "cell_type": "code",
   "execution_count": 150,
   "metadata": {},
   "outputs": [
    {
     "data": {
      "text/html": [
       "<div>\n",
       "<style scoped>\n",
       "    .dataframe tbody tr th:only-of-type {\n",
       "        vertical-align: middle;\n",
       "    }\n",
       "\n",
       "    .dataframe tbody tr th {\n",
       "        vertical-align: top;\n",
       "    }\n",
       "\n",
       "    .dataframe thead th {\n",
       "        text-align: right;\n",
       "    }\n",
       "</style>\n",
       "<table border=\"1\" class=\"dataframe\">\n",
       "  <thead>\n",
       "    <tr style=\"text-align: right;\">\n",
       "      <th></th>\n",
       "      <th>year</th>\n",
       "      <th>n people</th>\n",
       "      <th>Kommune</th>\n",
       "      <th>0-4</th>\n",
       "      <th>5-9</th>\n",
       "      <th>10-14</th>\n",
       "      <th>15-19</th>\n",
       "    </tr>\n",
       "  </thead>\n",
       "  <tbody>\n",
       "    <tr>\n",
       "      <th>29</th>\n",
       "      <td>2020</td>\n",
       "      <td>1 person</td>\n",
       "      <td>Greve</td>\n",
       "      <td>1</td>\n",
       "      <td>1</td>\n",
       "      <td>6</td>\n",
       "      <td>7</td>\n",
       "    </tr>\n",
       "    <tr>\n",
       "      <th>128</th>\n",
       "      <td>2020</td>\n",
       "      <td>2 personer</td>\n",
       "      <td>Greve</td>\n",
       "      <td>105</td>\n",
       "      <td>143</td>\n",
       "      <td>225</td>\n",
       "      <td>281</td>\n",
       "    </tr>\n",
       "    <tr>\n",
       "      <th>227</th>\n",
       "      <td>2020</td>\n",
       "      <td>3 personer</td>\n",
       "      <td>Greve</td>\n",
       "      <td>725</td>\n",
       "      <td>409</td>\n",
       "      <td>570</td>\n",
       "      <td>829</td>\n",
       "    </tr>\n",
       "    <tr>\n",
       "      <th>326</th>\n",
       "      <td>2020</td>\n",
       "      <td>4 personer</td>\n",
       "      <td>Greve</td>\n",
       "      <td>1271</td>\n",
       "      <td>1489</td>\n",
       "      <td>1522</td>\n",
       "      <td>1255</td>\n",
       "    </tr>\n",
       "    <tr>\n",
       "      <th>425</th>\n",
       "      <td>2020</td>\n",
       "      <td>5 personer</td>\n",
       "      <td>Greve</td>\n",
       "      <td>475</td>\n",
       "      <td>651</td>\n",
       "      <td>646</td>\n",
       "      <td>502</td>\n",
       "    </tr>\n",
       "    <tr>\n",
       "      <th>524</th>\n",
       "      <td>2020</td>\n",
       "      <td>6 personer og derover</td>\n",
       "      <td>Greve</td>\n",
       "      <td>246</td>\n",
       "      <td>295</td>\n",
       "      <td>309</td>\n",
       "      <td>255</td>\n",
       "    </tr>\n",
       "  </tbody>\n",
       "</table>\n",
       "</div>"
      ],
      "text/plain": [
       "     year               n people Kommune   0-4   5-9  10-14  15-19\n",
       "29   2020               1 person   Greve     1     1      6      7\n",
       "128  2020             2 personer   Greve   105   143    225    281\n",
       "227  2020             3 personer   Greve   725   409    570    829\n",
       "326  2020             4 personer   Greve  1271  1489   1522   1255\n",
       "425  2020             5 personer   Greve   475   651    646    502\n",
       "524  2020  6 personer og derover   Greve   246   295    309    255"
      ]
     },
     "execution_count": 150,
     "metadata": {},
     "output_type": "execute_result"
    }
   ],
   "source": [
    "for kommune in list_of_kommuner:\n",
    "    single_kommune_list = [kommune]\n",
    "    sum04 = sum(df_children[df_children['Kommune']==kommune]['0-4'])\n",
    "    sum59 = sum(df_children[df_children['Kommune']==kommune]['5-9'])\n",
    "    single_kommune_list.append(sum04+sum59)\n",
    "    sum1014 = sum(df_children[df_children['Kommune']==kommune]['10-14'])\n",
    "    sum1419 = sum(df_children[df_children['Kommune']==kommune]['14-19'])\n",
    "    single_kommune_list.append(sum1014+sum1419)\n",
    "    "
   ]
  },
  {
   "cell_type": "code",
   "execution_count": 161,
   "metadata": {},
   "outputs": [
    {
     "name": "stderr",
     "output_type": "stream",
     "text": [
      "<ipython-input-161-0e359e1d9213>:1: UserWarning: Boolean Series key will be reindexed to match DataFrame index.\n",
      "  df_children[df_children['Kommune']=='Greve'][df_children['n people']=='1 person']['0-4', '5-9','10-14','15-19']\n"
     ]
    },
    {
     "ename": "KeyError",
     "evalue": "('0-4', '5-9', '10-14', '15-19')",
     "output_type": "error",
     "traceback": [
      "\u001b[1;31m---------------------------------------------------------------------------\u001b[0m",
      "\u001b[1;31mKeyError\u001b[0m                                  Traceback (most recent call last)",
      "\u001b[1;32m~\\Anaconda3\\lib\\site-packages\\pandas\\core\\indexes\\base.py\u001b[0m in \u001b[0;36mget_loc\u001b[1;34m(self, key, method, tolerance)\u001b[0m\n\u001b[0;32m   2894\u001b[0m             \u001b[1;32mtry\u001b[0m\u001b[1;33m:\u001b[0m\u001b[1;33m\u001b[0m\u001b[1;33m\u001b[0m\u001b[0m\n\u001b[1;32m-> 2895\u001b[1;33m                 \u001b[1;32mreturn\u001b[0m \u001b[0mself\u001b[0m\u001b[1;33m.\u001b[0m\u001b[0m_engine\u001b[0m\u001b[1;33m.\u001b[0m\u001b[0mget_loc\u001b[0m\u001b[1;33m(\u001b[0m\u001b[0mcasted_key\u001b[0m\u001b[1;33m)\u001b[0m\u001b[1;33m\u001b[0m\u001b[1;33m\u001b[0m\u001b[0m\n\u001b[0m\u001b[0;32m   2896\u001b[0m             \u001b[1;32mexcept\u001b[0m \u001b[0mKeyError\u001b[0m \u001b[1;32mas\u001b[0m \u001b[0merr\u001b[0m\u001b[1;33m:\u001b[0m\u001b[1;33m\u001b[0m\u001b[1;33m\u001b[0m\u001b[0m\n",
      "\u001b[1;32mpandas\\_libs\\index.pyx\u001b[0m in \u001b[0;36mpandas._libs.index.IndexEngine.get_loc\u001b[1;34m()\u001b[0m\n",
      "\u001b[1;32mpandas\\_libs\\index.pyx\u001b[0m in \u001b[0;36mpandas._libs.index.IndexEngine.get_loc\u001b[1;34m()\u001b[0m\n",
      "\u001b[1;32mpandas\\_libs\\hashtable_class_helper.pxi\u001b[0m in \u001b[0;36mpandas._libs.hashtable.PyObjectHashTable.get_item\u001b[1;34m()\u001b[0m\n",
      "\u001b[1;32mpandas\\_libs\\hashtable_class_helper.pxi\u001b[0m in \u001b[0;36mpandas._libs.hashtable.PyObjectHashTable.get_item\u001b[1;34m()\u001b[0m\n",
      "\u001b[1;31mKeyError\u001b[0m: ('0-4', '5-9', '10-14', '15-19')",
      "\nThe above exception was the direct cause of the following exception:\n",
      "\u001b[1;31mKeyError\u001b[0m                                  Traceback (most recent call last)",
      "\u001b[1;32m<ipython-input-161-0e359e1d9213>\u001b[0m in \u001b[0;36m<module>\u001b[1;34m\u001b[0m\n\u001b[1;32m----> 1\u001b[1;33m \u001b[0mdf_children\u001b[0m\u001b[1;33m[\u001b[0m\u001b[0mdf_children\u001b[0m\u001b[1;33m[\u001b[0m\u001b[1;34m'Kommune'\u001b[0m\u001b[1;33m]\u001b[0m\u001b[1;33m==\u001b[0m\u001b[1;34m'Greve'\u001b[0m\u001b[1;33m]\u001b[0m\u001b[1;33m[\u001b[0m\u001b[0mdf_children\u001b[0m\u001b[1;33m[\u001b[0m\u001b[1;34m'n people'\u001b[0m\u001b[1;33m]\u001b[0m\u001b[1;33m==\u001b[0m\u001b[1;34m'1 person'\u001b[0m\u001b[1;33m]\u001b[0m\u001b[1;33m[\u001b[0m\u001b[1;34m'0-4'\u001b[0m\u001b[1;33m,\u001b[0m \u001b[1;34m'5-9'\u001b[0m\u001b[1;33m,\u001b[0m\u001b[1;34m'10-14'\u001b[0m\u001b[1;33m,\u001b[0m\u001b[1;34m'15-19'\u001b[0m\u001b[1;33m]\u001b[0m\u001b[1;33m\u001b[0m\u001b[1;33m\u001b[0m\u001b[0m\n\u001b[0m",
      "\u001b[1;32m~\\Anaconda3\\lib\\site-packages\\pandas\\core\\frame.py\u001b[0m in \u001b[0;36m__getitem__\u001b[1;34m(self, key)\u001b[0m\n\u001b[0;32m   2900\u001b[0m             \u001b[1;32mif\u001b[0m \u001b[0mself\u001b[0m\u001b[1;33m.\u001b[0m\u001b[0mcolumns\u001b[0m\u001b[1;33m.\u001b[0m\u001b[0mnlevels\u001b[0m \u001b[1;33m>\u001b[0m \u001b[1;36m1\u001b[0m\u001b[1;33m:\u001b[0m\u001b[1;33m\u001b[0m\u001b[1;33m\u001b[0m\u001b[0m\n\u001b[0;32m   2901\u001b[0m                 \u001b[1;32mreturn\u001b[0m \u001b[0mself\u001b[0m\u001b[1;33m.\u001b[0m\u001b[0m_getitem_multilevel\u001b[0m\u001b[1;33m(\u001b[0m\u001b[0mkey\u001b[0m\u001b[1;33m)\u001b[0m\u001b[1;33m\u001b[0m\u001b[1;33m\u001b[0m\u001b[0m\n\u001b[1;32m-> 2902\u001b[1;33m             \u001b[0mindexer\u001b[0m \u001b[1;33m=\u001b[0m \u001b[0mself\u001b[0m\u001b[1;33m.\u001b[0m\u001b[0mcolumns\u001b[0m\u001b[1;33m.\u001b[0m\u001b[0mget_loc\u001b[0m\u001b[1;33m(\u001b[0m\u001b[0mkey\u001b[0m\u001b[1;33m)\u001b[0m\u001b[1;33m\u001b[0m\u001b[1;33m\u001b[0m\u001b[0m\n\u001b[0m\u001b[0;32m   2903\u001b[0m             \u001b[1;32mif\u001b[0m \u001b[0mis_integer\u001b[0m\u001b[1;33m(\u001b[0m\u001b[0mindexer\u001b[0m\u001b[1;33m)\u001b[0m\u001b[1;33m:\u001b[0m\u001b[1;33m\u001b[0m\u001b[1;33m\u001b[0m\u001b[0m\n\u001b[0;32m   2904\u001b[0m                 \u001b[0mindexer\u001b[0m \u001b[1;33m=\u001b[0m \u001b[1;33m[\u001b[0m\u001b[0mindexer\u001b[0m\u001b[1;33m]\u001b[0m\u001b[1;33m\u001b[0m\u001b[1;33m\u001b[0m\u001b[0m\n",
      "\u001b[1;32m~\\Anaconda3\\lib\\site-packages\\pandas\\core\\indexes\\base.py\u001b[0m in \u001b[0;36mget_loc\u001b[1;34m(self, key, method, tolerance)\u001b[0m\n\u001b[0;32m   2895\u001b[0m                 \u001b[1;32mreturn\u001b[0m \u001b[0mself\u001b[0m\u001b[1;33m.\u001b[0m\u001b[0m_engine\u001b[0m\u001b[1;33m.\u001b[0m\u001b[0mget_loc\u001b[0m\u001b[1;33m(\u001b[0m\u001b[0mcasted_key\u001b[0m\u001b[1;33m)\u001b[0m\u001b[1;33m\u001b[0m\u001b[1;33m\u001b[0m\u001b[0m\n\u001b[0;32m   2896\u001b[0m             \u001b[1;32mexcept\u001b[0m \u001b[0mKeyError\u001b[0m \u001b[1;32mas\u001b[0m \u001b[0merr\u001b[0m\u001b[1;33m:\u001b[0m\u001b[1;33m\u001b[0m\u001b[1;33m\u001b[0m\u001b[0m\n\u001b[1;32m-> 2897\u001b[1;33m                 \u001b[1;32mraise\u001b[0m \u001b[0mKeyError\u001b[0m\u001b[1;33m(\u001b[0m\u001b[0mkey\u001b[0m\u001b[1;33m)\u001b[0m \u001b[1;32mfrom\u001b[0m \u001b[0merr\u001b[0m\u001b[1;33m\u001b[0m\u001b[1;33m\u001b[0m\u001b[0m\n\u001b[0m\u001b[0;32m   2898\u001b[0m \u001b[1;33m\u001b[0m\u001b[0m\n\u001b[0;32m   2899\u001b[0m         \u001b[1;32mif\u001b[0m \u001b[0mtolerance\u001b[0m \u001b[1;32mis\u001b[0m \u001b[1;32mnot\u001b[0m \u001b[1;32mNone\u001b[0m\u001b[1;33m:\u001b[0m\u001b[1;33m\u001b[0m\u001b[1;33m\u001b[0m\u001b[0m\n",
      "\u001b[1;31mKeyError\u001b[0m: ('0-4', '5-9', '10-14', '15-19')"
     ]
    }
   ],
   "source": [
    "df_children[df_children['Kommune']=='Greve'][df_children['n people']=='1 person']['0-4', '5-9','10-14','15-19']"
   ]
  },
  {
   "cell_type": "code",
   "execution_count": 278,
   "metadata": {},
   "outputs": [],
   "source": [
    "household_dist = pd.DataFrame(household_dist_kommune)\n",
    "age_dist = pd.DataFrame(age_dist_per_household)"
   ]
  },
  {
   "cell_type": "code",
   "execution_count": 256,
   "metadata": {},
   "outputs": [],
   "source": [
    "household_dist = household_dist.set_index(0)\n",
    "household_dist.to_csv('household_dist.csv')"
   ]
  },
  {
   "cell_type": "code",
   "execution_count": 237,
   "metadata": {},
   "outputs": [
    {
     "name": "stderr",
     "output_type": "stream",
     "text": [
      "<ipython-input-237-42ee6071e6c3>:1: VisibleDeprecationWarning: Creating an ndarray from ragged nested sequences (which is a list-or-tuple of lists-or-tuples-or ndarrays with different lengths or shapes) is deprecated. If you meant to do this, you must specify 'dtype=object' when creating the ndarray\n",
      "  age_dist_per_household = np.array(age_dist_per_household)\n"
     ]
    }
   ],
   "source": [
    "age_dist_per_household = np.array(age_dist_per_household)"
   ]
  },
  {
   "cell_type": "code",
   "execution_count": 276,
   "metadata": {},
   "outputs": [
    {
     "data": {
      "text/plain": [
       "8"
      ]
     },
     "execution_count": 276,
     "metadata": {},
     "output_type": "execute_result"
    }
   ],
   "source": [
    "len(age_dist.iloc[0].loc[1])-1"
   ]
  },
  {
   "cell_type": "code",
   "execution_count": 246,
   "metadata": {},
   "outputs": [],
   "source": [
    "age_dist.to_csv('age_dist_kommuner.csv')"
   ]
  },
  {
   "cell_type": "code",
   "execution_count": 279,
   "metadata": {},
   "outputs": [],
   "source": [
    "household_dist = household_dist.set_index(0)"
   ]
  },
  {
   "cell_type": "code",
   "execution_count": 288,
   "metadata": {},
   "outputs": [],
   "source": [
    "age_dist = age_dist.set_index(0)"
   ]
  },
  {
   "cell_type": "code",
   "execution_count": 294,
   "metadata": {},
   "outputs": [
    {
     "data": {
      "text/plain": [
       "1    [1 person, 1, 21, 2340, 1791, 2026, 3092, 3065...\n",
       "2    [2 personer, 555, 1065, 4093, 2341, 2481, 6929...\n",
       "3    [3 personer, 2560, 2807, 2073, 2859, 2681, 348...\n",
       "4    [4 personer, 6073, 5985, 1074, 4438, 5529, 204...\n",
       "5    [5 personer, 2916, 3375, 383, 1495, 2432, 671,...\n",
       "6    [6 personer og derover, 1031, 1161, 508, 704, ...\n",
       "Name: Vejle, dtype: object"
      ]
     },
     "execution_count": 294,
     "metadata": {},
     "output_type": "execute_result"
    }
   ],
   "source": [
    "age_dist.loc['Vejle']"
   ]
  },
  {
   "cell_type": "code",
   "execution_count": null,
   "metadata": {},
   "outputs": [],
   "source": []
  }
 ],
 "metadata": {
  "kernelspec": {
   "display_name": "Python 3",
   "language": "python",
   "name": "python3"
  },
  "language_info": {
   "codemirror_mode": {
    "name": "ipython",
    "version": 3
   },
   "file_extension": ".py",
   "mimetype": "text/x-python",
   "name": "python",
   "nbconvert_exporter": "python",
   "pygments_lexer": "ipython3",
   "version": "3.8.5"
  }
 },
 "nbformat": 4,
 "nbformat_minor": 4
}
